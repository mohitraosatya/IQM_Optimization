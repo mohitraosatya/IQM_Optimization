{
  "nbformat": 4,
  "nbformat_minor": 0,
  "metadata": {
    "colab": {
      "provenance": [],
      "authorship_tag": "ABX9TyMxtvygoreXCLlOlTXyDj/O",
      "include_colab_link": true
    },
    "kernelspec": {
      "name": "python3",
      "display_name": "Python 3"
    },
    "language_info": {
      "name": "python"
    }
  },
  "cells": [
    {
      "cell_type": "markdown",
      "metadata": {
        "id": "view-in-github",
        "colab_type": "text"
      },
      "source": [
        "<a href=\"https://colab.research.google.com/github/mohitraosatya/IQM_Optimization/blob/main/IQM_Geneopt.ipynb\" target=\"_parent\"><img src=\"https://colab.research.google.com/assets/colab-badge.svg\" alt=\"Open In Colab\"/></a>"
      ]
    },
    {
      "cell_type": "markdown",
      "source": [
        "#  Quantum Circuit Optimization using Nature-Inspired Genetic Algorithms\n",
        "\n",
        "Author: Satya Mohit Rao Kamkanampati\n",
        "\n",
        "Email: saka4331@colorado.edu\n",
        "\n",
        "This notebook explores a nature-inspired approach to optimizing quantum circuits using Genetic Algorithms (GAs), taking inspiration from biological evolution. The goal is to maximize the probability of a desired output state (e.g., `'00'`) in a 2-qubit quantum system simulated via Qiskit. By evolving gate parameters over generations, we demonstrate how GAs can effectively search the quantum parameter space and improve circuit fidelity.\n",
        "\n",
        "This work aligns with the ongoing challenges in quantum computing—particularly in error mitigation and hardware-efficient circuit design—and offers a potential direction for scaling intelligent quantum compilers on real hardware like IQM’s superconducting quantum processors.\n"
      ],
      "metadata": {
        "id": "kWc_db9E8Av6"
      }
    },
    {
      "cell_type": "code",
      "execution_count": 4,
      "metadata": {
        "colab": {
          "base_uri": "https://localhost:8080/"
        },
        "id": "K0fr43D95uxt",
        "outputId": "2b3ee808-1156-4cdb-fe42-0661ab8750d3"
      },
      "outputs": [
        {
          "output_type": "stream",
          "name": "stdout",
          "text": [
            "Requirement already satisfied: numpy in /usr/local/lib/python3.11/dist-packages (2.0.2)\n",
            "Requirement already satisfied: qiskit in /usr/local/lib/python3.11/dist-packages (2.0.0)\n",
            "Requirement already satisfied: rustworkx>=0.15.0 in /usr/local/lib/python3.11/dist-packages (from qiskit) (0.16.0)\n",
            "Requirement already satisfied: scipy>=1.5 in /usr/local/lib/python3.11/dist-packages (from qiskit) (1.14.1)\n",
            "Requirement already satisfied: sympy>=1.3 in /usr/local/lib/python3.11/dist-packages (from qiskit) (1.13.1)\n",
            "Requirement already satisfied: dill>=0.3 in /usr/local/lib/python3.11/dist-packages (from qiskit) (0.3.9)\n",
            "Requirement already satisfied: python-dateutil>=2.8.0 in /usr/local/lib/python3.11/dist-packages (from qiskit) (2.8.2)\n",
            "Requirement already satisfied: stevedore>=3.0.0 in /usr/local/lib/python3.11/dist-packages (from qiskit) (5.4.1)\n",
            "Requirement already satisfied: typing-extensions in /usr/local/lib/python3.11/dist-packages (from qiskit) (4.13.1)\n",
            "Requirement already satisfied: symengine<0.14,>=0.11 in /usr/local/lib/python3.11/dist-packages (from qiskit) (0.13.0)\n",
            "Requirement already satisfied: six>=1.5 in /usr/local/lib/python3.11/dist-packages (from python-dateutil>=2.8.0->qiskit) (1.17.0)\n",
            "Requirement already satisfied: pbr>=2.0.0 in /usr/local/lib/python3.11/dist-packages (from stevedore>=3.0.0->qiskit) (6.1.1)\n",
            "Requirement already satisfied: mpmath<1.4,>=1.1.0 in /usr/local/lib/python3.11/dist-packages (from sympy>=1.3->qiskit) (1.3.0)\n",
            "Requirement already satisfied: setuptools in /usr/local/lib/python3.11/dist-packages (from pbr>=2.0.0->stevedore>=3.0.0->qiskit) (75.2.0)\n",
            "Collecting qiskit-aer\n",
            "  Downloading qiskit_aer-0.17.0-cp311-cp311-manylinux_2_17_x86_64.manylinux2014_x86_64.whl.metadata (8.2 kB)\n",
            "Requirement already satisfied: qiskit>=1.1.0 in /usr/local/lib/python3.11/dist-packages (from qiskit-aer) (2.0.0)\n",
            "Requirement already satisfied: numpy>=1.16.3 in /usr/local/lib/python3.11/dist-packages (from qiskit-aer) (2.0.2)\n",
            "Requirement already satisfied: scipy>=1.0 in /usr/local/lib/python3.11/dist-packages (from qiskit-aer) (1.14.1)\n",
            "Requirement already satisfied: psutil>=5 in /usr/local/lib/python3.11/dist-packages (from qiskit-aer) (5.9.5)\n",
            "Requirement already satisfied: rustworkx>=0.15.0 in /usr/local/lib/python3.11/dist-packages (from qiskit>=1.1.0->qiskit-aer) (0.16.0)\n",
            "Requirement already satisfied: sympy>=1.3 in /usr/local/lib/python3.11/dist-packages (from qiskit>=1.1.0->qiskit-aer) (1.13.1)\n",
            "Requirement already satisfied: dill>=0.3 in /usr/local/lib/python3.11/dist-packages (from qiskit>=1.1.0->qiskit-aer) (0.3.9)\n",
            "Requirement already satisfied: python-dateutil>=2.8.0 in /usr/local/lib/python3.11/dist-packages (from qiskit>=1.1.0->qiskit-aer) (2.8.2)\n",
            "Requirement already satisfied: stevedore>=3.0.0 in /usr/local/lib/python3.11/dist-packages (from qiskit>=1.1.0->qiskit-aer) (5.4.1)\n",
            "Requirement already satisfied: typing-extensions in /usr/local/lib/python3.11/dist-packages (from qiskit>=1.1.0->qiskit-aer) (4.13.1)\n",
            "Requirement already satisfied: symengine<0.14,>=0.11 in /usr/local/lib/python3.11/dist-packages (from qiskit>=1.1.0->qiskit-aer) (0.13.0)\n",
            "Requirement already satisfied: six>=1.5 in /usr/local/lib/python3.11/dist-packages (from python-dateutil>=2.8.0->qiskit>=1.1.0->qiskit-aer) (1.17.0)\n",
            "Requirement already satisfied: pbr>=2.0.0 in /usr/local/lib/python3.11/dist-packages (from stevedore>=3.0.0->qiskit>=1.1.0->qiskit-aer) (6.1.1)\n",
            "Requirement already satisfied: mpmath<1.4,>=1.1.0 in /usr/local/lib/python3.11/dist-packages (from sympy>=1.3->qiskit>=1.1.0->qiskit-aer) (1.3.0)\n",
            "Requirement already satisfied: setuptools in /usr/local/lib/python3.11/dist-packages (from pbr>=2.0.0->stevedore>=3.0.0->qiskit>=1.1.0->qiskit-aer) (75.2.0)\n",
            "Downloading qiskit_aer-0.17.0-cp311-cp311-manylinux_2_17_x86_64.manylinux2014_x86_64.whl (12.4 MB)\n",
            "\u001b[2K   \u001b[90m━━━━━━━━━━━━━━━━━━━━━━━━━━━━━━━━━━━━━━━━\u001b[0m \u001b[32m12.4/12.4 MB\u001b[0m \u001b[31m80.5 MB/s\u001b[0m eta \u001b[36m0:00:00\u001b[0m\n",
            "\u001b[?25hInstalling collected packages: qiskit-aer\n",
            "Successfully installed qiskit-aer-0.17.0\n"
          ]
        }
      ],
      "source": [
        "!pip install numpy qiskit\n",
        "!pip install qiskit-aer"
      ]
    },
    {
      "cell_type": "code",
      "source": [
        "import numpy as np\n",
        "from qiskit import QuantumCircuit, transpile\n",
        "from qiskit_aer import AerSimulator"
      ],
      "metadata": {
        "id": "jiOgEBFP5xN3"
      },
      "execution_count": 5,
      "outputs": []
    },
    {
      "cell_type": "code",
      "source": [
        "def create_quantum_circuit(params):\n",
        "    qc = QuantumCircuit(2)\n",
        "    qc.rx(params[0], 0)\n",
        "    qc.ry(params[1], 1)\n",
        "    qc.cx(0, 1)\n",
        "    qc.measure_all()\n",
        "    return qc"
      ],
      "metadata": {
        "id": "6yfjttAd5zeW"
      },
      "execution_count": 6,
      "outputs": []
    },
    {
      "cell_type": "code",
      "source": [
        "def fitness_function(params):\n",
        "    qc = create_quantum_circuit(params)\n",
        "    simulator = AerSimulator()\n",
        "    compiled_circuit = transpile(qc, simulator)\n",
        "    result = simulator.run(compiled_circuit).result()\n",
        "    counts = result.get_counts()\n",
        "    # Objective: Maximize the probability of measuring '00'\n",
        "    return counts.get('00', 0) / sum(counts.values())"
      ],
      "metadata": {
        "id": "w-oICEjw6MA-"
      },
      "execution_count": 7,
      "outputs": []
    },
    {
      "cell_type": "code",
      "source": [
        "def initialize_population(size):\n",
        "    return np.random.uniform(0, 2 * np.pi, (size, 2))"
      ],
      "metadata": {
        "id": "hlHXEvp76OWE"
      },
      "execution_count": 8,
      "outputs": []
    },
    {
      "cell_type": "code",
      "source": [
        "def select_parents(population, fitnesses, num_parents):\n",
        "    parents = population[np.argsort(fitnesses)][-num_parents:]\n",
        "    return parents"
      ],
      "metadata": {
        "id": "nxBgVpHV6RHF"
      },
      "execution_count": 9,
      "outputs": []
    },
    {
      "cell_type": "code",
      "source": [
        "def crossover(parents, offspring_size):\n",
        "    offspring = np.empty((offspring_size, parents.shape[1]))\n",
        "    crossover_point = np.uint8(parents.shape[1]/2)\n",
        "    for k in range(offspring_size):\n",
        "        parent1_idx = k % parents.shape[0]\n",
        "        parent2_idx = (k + 1) % parents.shape[0]\n",
        "        offspring[k, :crossover_point] = parents[parent1_idx, :crossover_point]\n",
        "        offspring[k, crossover_point:] = parents[parent2_idx, crossover_point:]\n",
        "    return offspring"
      ],
      "metadata": {
        "id": "_wChUGFf6Tbq"
      },
      "execution_count": 10,
      "outputs": []
    },
    {
      "cell_type": "code",
      "source": [
        "def mutation(offspring_crossover, mutation_rate=0.1):\n",
        "    for idx in range(offspring_crossover.shape[0]):\n",
        "        if np.random.rand() < mutation_rate:\n",
        "            random_index = np.random.randint(0, offspring_crossover.shape[1])\n",
        "            random_value = np.random.uniform(0, 2 * np.pi)\n",
        "            offspring_crossover[idx, random_index] = random_value\n",
        "    return offspring_crossover"
      ],
      "metadata": {
        "id": "GsNKIHF96Vlm"
      },
      "execution_count": 11,
      "outputs": []
    },
    {
      "cell_type": "code",
      "source": [
        "def genetic_algorithm(pop_size, num_generations, num_parents):\n",
        "    population = initialize_population(pop_size)\n",
        "    for generation in range(num_generations):\n",
        "        fitnesses = np.array([fitness_function(ind) for ind in population])\n",
        "        parents = select_parents(population, fitnesses, num_parents)\n",
        "        offspring_crossover = crossover(parents, offspring_size=pop_size - num_parents)\n",
        "        offspring_mutation = mutation(offspring_crossover)\n",
        "        population[:num_parents] = parents\n",
        "        population[num_parents:] = offspring_mutation\n",
        "        best_fitness = np.max(fitnesses)\n",
        "        print(f\"Generation {generation}: Best Fitness = {best_fitness}\")\n",
        "    best_solution = population[np.argmax(fitnesses)]\n",
        "    return best_solution"
      ],
      "metadata": {
        "id": "89n5xRVq6XyL"
      },
      "execution_count": 12,
      "outputs": []
    },
    {
      "cell_type": "code",
      "source": [
        "best_params = genetic_algorithm(pop_size=20, num_generations=10, num_parents=10)\n",
        "print(\"Optimized Parameters:\", best_params)"
      ],
      "metadata": {
        "colab": {
          "base_uri": "https://localhost:8080/"
        },
        "id": "M3aFIfLI6aS0",
        "outputId": "134ad3ff-5b9f-455f-95a8-3604e0389875"
      },
      "execution_count": 16,
      "outputs": [
        {
          "output_type": "stream",
          "name": "stdout",
          "text": [
            "Generation 0: Best Fitness = 0.84765625\n",
            "Generation 1: Best Fitness = 0.8408203125\n",
            "Generation 2: Best Fitness = 0.896484375\n",
            "Generation 3: Best Fitness = 0.91015625\n",
            "Generation 4: Best Fitness = 0.89453125\n",
            "Generation 5: Best Fitness = 0.9248046875\n",
            "Generation 6: Best Fitness = 0.92578125\n",
            "Generation 7: Best Fitness = 0.9189453125\n",
            "Generation 8: Best Fitness = 0.9990234375\n",
            "Generation 9: Best Fitness = 0.9921875\n",
            "Optimized Parameters: [0.14470787 0.02442485]\n"
          ]
        }
      ]
    }
  ]
}